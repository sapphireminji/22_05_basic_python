{
  "nbformat": 4,
  "nbformat_minor": 0,
  "metadata": {
    "colab": {
      "provenance": [],
      "authorship_tag": "ABX9TyOW68SxQsEjYsjBbUgYIRyn",
      "include_colab_link": true
    },
    "kernelspec": {
      "name": "python3",
      "display_name": "Python 3"
    },
    "language_info": {
      "name": "python"
    }
  },
  "cells": [
    {
      "cell_type": "markdown",
      "metadata": {
        "id": "view-in-github",
        "colab_type": "text"
      },
      "source": [
        "<a href=\"https://colab.research.google.com/github/sapphireminji/22_05_basic_python/blob/main/python_1st.ipynb\" target=\"_parent\"><img src=\"https://colab.research.google.com/assets/colab-badge.svg\" alt=\"Open In Colab\"/></a>"
      ]
    },
    {
      "cell_type": "markdown",
      "source": [
        "1. 안녕하세요를 화면에 출력해보자.\n"
      ],
      "metadata": {
        "id": "OV79xFumZHYA"
      }
    },
    {
      "cell_type": "code",
      "source": [
        "print(\"안녕하세요.\")"
      ],
      "metadata": {
        "colab": {
          "base_uri": "https://localhost:8080/"
        },
        "id": "SvdMHiASZSY0",
        "outputId": "eda716f7-0412-445b-efda-98fc2f8d91df"
      },
      "execution_count": 2,
      "outputs": [
        {
          "output_type": "stream",
          "name": "stdout",
          "text": [
            "안녕하세요.\n"
          ]
        }
      ]
    },
    {
      "cell_type": "markdown",
      "source": [
        "2. programming에 입문하신 것을 축하드립니다.를 출력하시오"
      ],
      "metadata": {
        "id": "Q7mtuIPXZ8PL"
      }
    },
    {
      "cell_type": "code",
      "source": [
        "print(\"programming에 입문하신 것을 축하드립니다.\")"
      ],
      "metadata": {
        "colab": {
          "base_uri": "https://localhost:8080/"
        },
        "id": "I95uIxisac16",
        "outputId": "865b7d90-f213-4b5e-bd49-2c2a44525afb"
      },
      "execution_count": 4,
      "outputs": [
        {
          "output_type": "stream",
          "name": "stdout",
          "text": [
            "programming에 입문하신 것을 축하드립니다.\n"
          ]
        }
      ]
    }
  ]
}